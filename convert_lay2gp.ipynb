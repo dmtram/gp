{
 "cells": [
  {
   "cell_type": "code",
   "execution_count": 3,
   "metadata": {},
   "outputs": [
    {
     "name": "stdout",
     "output_type": "stream",
     "text": [
      "3.8.6 (default, Jan 27 2021, 15:42:20) \n",
      "[GCC 10.2.0]\n"
     ]
    }
   ],
   "source": [
    "import sys\n",
    "print(sys.version)"
   ]
  },
  {
   "cell_type": "code",
   "execution_count": 75,
   "metadata": {},
   "outputs": [],
   "source": [
    "import pandas as pd\n",
    "import numpy as np\n",
    "import matplotlib.pyplot as plt\n",
    "import seaborn as sns\n",
    "from mpl_toolkits.mplot3d import Axes3D\n",
    "import ipywidgets as widgets\n",
    "import pyvista as pv\n",
    "from itkwidgets import view\n",
    "%matplotlib widget\n",
    "pv.rcParams['use_ipyvtk'] = True\n",
    "pd.set_option('precision', 6)"
   ]
  },
  {
   "cell_type": "code",
   "execution_count": 3,
   "metadata": {},
   "outputs": [],
   "source": [
    "#%cat 'data/synth.dat'"
   ]
  },
  {
   "cell_type": "code",
   "execution_count": 2,
   "metadata": {},
   "outputs": [
    {
     "name": "stdout",
     "output_type": "stream",
     "text": [
      "Note: you may need to restart the kernel to use updated packages.\n"
     ]
    }
   ],
   "source": [
    "%pip freeze  > requirements.txt"
   ]
  },
  {
   "cell_type": "markdown",
   "metadata": {},
   "source": [
    "### Read raw datas from tecplot"
   ]
  },
  {
   "cell_type": "code",
   "execution_count": 76,
   "metadata": {},
   "outputs": [],
   "source": [
    "df = pd.read_csv(filepath_or_buffer=r'data/input_data/synth.dat',sep='\\t',skiprows=10,\n",
    "                 names=[\"X\",\"Y\",\"Z\",\"Layer1\",\"Layer2\",\"Layer3\",\"Layer4\",\"Layer5\"],dtype=np.float64)"
   ]
  },
  {
   "cell_type": "code",
   "execution_count": 77,
   "metadata": {},
   "outputs": [
    {
     "data": {
      "text/html": [
       "<div>\n",
       "<style scoped>\n",
       "    .dataframe tbody tr th:only-of-type {\n",
       "        vertical-align: middle;\n",
       "    }\n",
       "\n",
       "    .dataframe tbody tr th {\n",
       "        vertical-align: top;\n",
       "    }\n",
       "\n",
       "    .dataframe thead th {\n",
       "        text-align: right;\n",
       "    }\n",
       "</style>\n",
       "<table border=\"1\" class=\"dataframe\">\n",
       "  <thead>\n",
       "    <tr style=\"text-align: right;\">\n",
       "      <th></th>\n",
       "      <th>X</th>\n",
       "      <th>Y</th>\n",
       "      <th>Z</th>\n",
       "      <th>Layer1</th>\n",
       "      <th>Layer2</th>\n",
       "      <th>Layer3</th>\n",
       "      <th>Layer4</th>\n",
       "      <th>Layer5</th>\n",
       "    </tr>\n",
       "  </thead>\n",
       "  <tbody>\n",
       "    <tr>\n",
       "      <th>0</th>\n",
       "      <td>500.0</td>\n",
       "      <td>500.0</td>\n",
       "      <td>0.5</td>\n",
       "      <td>1.0</td>\n",
       "      <td>0.0</td>\n",
       "      <td>0.0</td>\n",
       "      <td>0.0</td>\n",
       "      <td>0.0</td>\n",
       "    </tr>\n",
       "    <tr>\n",
       "      <th>1</th>\n",
       "      <td>500.0</td>\n",
       "      <td>500.0</td>\n",
       "      <td>1.5</td>\n",
       "      <td>1.0</td>\n",
       "      <td>0.0</td>\n",
       "      <td>0.0</td>\n",
       "      <td>0.0</td>\n",
       "      <td>0.0</td>\n",
       "    </tr>\n",
       "    <tr>\n",
       "      <th>2</th>\n",
       "      <td>500.0</td>\n",
       "      <td>500.0</td>\n",
       "      <td>2.5</td>\n",
       "      <td>1.0</td>\n",
       "      <td>0.0</td>\n",
       "      <td>0.0</td>\n",
       "      <td>0.0</td>\n",
       "      <td>0.0</td>\n",
       "    </tr>\n",
       "    <tr>\n",
       "      <th>3</th>\n",
       "      <td>500.0</td>\n",
       "      <td>500.0</td>\n",
       "      <td>3.5</td>\n",
       "      <td>1.0</td>\n",
       "      <td>0.0</td>\n",
       "      <td>0.0</td>\n",
       "      <td>0.0</td>\n",
       "      <td>0.0</td>\n",
       "    </tr>\n",
       "    <tr>\n",
       "      <th>4</th>\n",
       "      <td>500.0</td>\n",
       "      <td>500.0</td>\n",
       "      <td>4.5</td>\n",
       "      <td>1.0</td>\n",
       "      <td>0.0</td>\n",
       "      <td>0.0</td>\n",
       "      <td>0.0</td>\n",
       "      <td>0.0</td>\n",
       "    </tr>\n",
       "  </tbody>\n",
       "</table>\n",
       "</div>"
      ],
      "text/plain": [
       "       X      Y    Z  Layer1  Layer2  Layer3  Layer4  Layer5\n",
       "0  500.0  500.0  0.5     1.0     0.0     0.0     0.0     0.0\n",
       "1  500.0  500.0  1.5     1.0     0.0     0.0     0.0     0.0\n",
       "2  500.0  500.0  2.5     1.0     0.0     0.0     0.0     0.0\n",
       "3  500.0  500.0  3.5     1.0     0.0     0.0     0.0     0.0\n",
       "4  500.0  500.0  4.5     1.0     0.0     0.0     0.0     0.0"
      ]
     },
     "execution_count": 77,
     "metadata": {},
     "output_type": "execute_result"
    }
   ],
   "source": [
    "layers=list(df.columns[3:]) # X,Y,Z\n",
    "df.head()"
   ]
  },
  {
   "cell_type": "markdown",
   "metadata": {},
   "source": [
    "### Function for filtering / sorting and merging layers from raw datas"
   ]
  },
  {
   "cell_type": "code",
   "execution_count": 78,
   "metadata": {},
   "outputs": [],
   "source": [
    "def mask_df(df,formation):\n",
    "    df_f = df.copy()\n",
    "    df_f = df[df[formation]==1]\n",
    "    l=layers.copy() \n",
    "    l.remove(formation)\n",
    "    df_f=df_f.drop(columns=l)\n",
    "    df_f.rename(columns={formation: 'formation'}, inplace=True)\n",
    "    df_f=df_f.assign(formation=str(formation))\n",
    "    return df_f"
   ]
  },
  {
   "cell_type": "code",
   "execution_count": 79,
   "metadata": {},
   "outputs": [],
   "source": [
    "def sort_df(df,formation):\n",
    "    df_l = mask_df(df,formation)\n",
    "    groups = df_l.groupby(['X','Y'])\n",
    "    df_sort = groups.max()\n",
    "    df_sort.reset_index(inplace=True)\n",
    "    return df_sort"
   ]
  },
  {
   "cell_type": "code",
   "execution_count": 80,
   "metadata": {},
   "outputs": [],
   "source": [
    "def grad_df(df,normals,formation):\n",
    "    df_grad = sort_df(df,formation)\n",
    "    df_grad.insert(loc=3, column = 'G_x', value=normals[:,0])\n",
    "    df_grad.insert(loc=4, column = 'G_y', value=normals[:,1])\n",
    "    df_grad.insert(loc=5, column = 'G_z', value=normals[:,2])\n",
    "    return df_grad"
   ]
  },
  {
   "cell_type": "markdown",
   "metadata": {},
   "source": [
    "### Concatenate all layers point positions in a surface dataFrame"
   ]
  },
  {
   "cell_type": "code",
   "execution_count": 81,
   "metadata": {},
   "outputs": [
    {
     "data": {
      "text/html": [
       "<div>\n",
       "<style scoped>\n",
       "    .dataframe tbody tr th:only-of-type {\n",
       "        vertical-align: middle;\n",
       "    }\n",
       "\n",
       "    .dataframe tbody tr th {\n",
       "        vertical-align: top;\n",
       "    }\n",
       "\n",
       "    .dataframe thead th {\n",
       "        text-align: right;\n",
       "    }\n",
       "</style>\n",
       "<table border=\"1\" class=\"dataframe\">\n",
       "  <thead>\n",
       "    <tr style=\"text-align: right;\">\n",
       "      <th></th>\n",
       "      <th>X</th>\n",
       "      <th>Y</th>\n",
       "      <th>Z</th>\n",
       "      <th>formation</th>\n",
       "    </tr>\n",
       "  </thead>\n",
       "  <tbody>\n",
       "    <tr>\n",
       "      <th>215</th>\n",
       "      <td>9500.0</td>\n",
       "      <td>7500.0</td>\n",
       "      <td>24.5</td>\n",
       "      <td>Layer5</td>\n",
       "    </tr>\n",
       "    <tr>\n",
       "      <th>216</th>\n",
       "      <td>9500.0</td>\n",
       "      <td>8000.0</td>\n",
       "      <td>24.5</td>\n",
       "      <td>Layer5</td>\n",
       "    </tr>\n",
       "    <tr>\n",
       "      <th>217</th>\n",
       "      <td>9500.0</td>\n",
       "      <td>8500.0</td>\n",
       "      <td>24.5</td>\n",
       "      <td>Layer5</td>\n",
       "    </tr>\n",
       "    <tr>\n",
       "      <th>218</th>\n",
       "      <td>9500.0</td>\n",
       "      <td>9000.0</td>\n",
       "      <td>24.5</td>\n",
       "      <td>Layer5</td>\n",
       "    </tr>\n",
       "    <tr>\n",
       "      <th>219</th>\n",
       "      <td>9500.0</td>\n",
       "      <td>9500.0</td>\n",
       "      <td>24.5</td>\n",
       "      <td>Layer5</td>\n",
       "    </tr>\n",
       "  </tbody>\n",
       "</table>\n",
       "</div>"
      ],
      "text/plain": [
       "          X       Y     Z formation\n",
       "215  9500.0  7500.0  24.5    Layer5\n",
       "216  9500.0  8000.0  24.5    Layer5\n",
       "217  9500.0  8500.0  24.5    Layer5\n",
       "218  9500.0  9000.0  24.5    Layer5\n",
       "219  9500.0  9500.0  24.5    Layer5"
      ]
     },
     "execution_count": 81,
     "metadata": {},
     "output_type": "execute_result"
    }
   ],
   "source": [
    "df_all_surf = pd.concat([sort_df(df,layer) for layer in layers],sort=True)\n",
    "np.shape(df_all_surf)\n",
    "df_all_surf.tail()"
   ]
  },
  {
   "cell_type": "markdown",
   "metadata": {},
   "source": [
    "### Compute Azimuth, dip angles from pole gradient vectors (normals definition)"
   ]
  },
  {
   "cell_type": "code",
   "execution_count": 82,
   "metadata": {},
   "outputs": [],
   "source": [
    "def calculate_orientations(df, idx=None):\n",
    "        if idx is None:\n",
    "            pol = 1\n",
    "            df.insert(loc=6,column = 'azimuth',value = np.rad2deg(np.nan_to_num(np.arctan2(df[\"G_x\"] / pol,\n",
    "                                                                                           df[\"G_y\"] / pol))))\n",
    "            df.insert(loc=7,column = 'dip', value = np.rad2deg(np.nan_to_num(np.arccos(df[\"G_z\"] / pol))))\n",
    "            df.insert(loc=8,column = 'polarity',value  = pol)\n",
    "            # mask\n",
    "            df[\"azimuth\"][df[\"azimuth\"] < 0] += 360  # shift values from [-pi, 0] to [pi,2*pi]\n",
    "            df[\"azimuth\"][df[\"dip\"] < 0.001] = 0  # because if dip is zero azimuth is undefined\n",
    "        else:\n",
    "            df.loc[idx, 'polarity'] = 1\n",
    "            df.loc[idx, \"dip\"] = np.rad2deg(np.nan_to_num(np.arccos(df.loc[idx, \"G_z\"] /\n",
    "                                                                    df.loc[idx, \"polarity\"])))\n",
    "            df.loc[idx, \"azimuth\"] = np.rad2deg(np.nan_to_num(\n",
    "                np.arctan2(df.loc[idx, \"G_x\"] / df.loc[idx, \"polarity\"],\n",
    "                           df.loc[idx, \"G_y\"] / df.loc[idx, \"polarity\"])))\n",
    "            df[\"azimuth\"][df[\"azimuth\"] < 0] += 360  # shift values from [-pi, 0] to [pi,2*pi]\n",
    "            df[\"azimuth\"][df[\"dip\"] < 0.001] = 0  # because if dip is zero azimuth is undefined\n",
    "        return df"
   ]
  },
  {
   "cell_type": "markdown",
   "metadata": {},
   "source": [
    "### Compute pole gradients ```G_x, G_y, G_z``` as normal vectors from a surface layer (```delaunay_2d```)"
   ]
  },
  {
   "cell_type": "code",
   "execution_count": 130,
   "metadata": {},
   "outputs": [
    {
     "data": {
      "application/vnd.jupyter.widget-view+json": {
       "model_id": "fd36f240d35b4792b991f207337c120e",
       "version_major": 2,
       "version_minor": 0
      },
      "text/plain": [
       "interactive(children=(IntSlider(value=200, description='Z vert. ex.', max=1000, min=1, step=10), IntSlider(val…"
      ]
     },
     "metadata": {},
     "output_type": "display_data"
    },
    {
     "data": {
      "text/plain": [
       "<function __main__.plot_layers_orientation(ve, fact_n, is_l1, is_l2, is_l3, is_l4, is_l5)>"
      ]
     },
     "execution_count": 130,
     "metadata": {},
     "output_type": "execute_result"
    }
   ],
   "source": [
    "def plot_layers_orientation(ve,fact_n,is_l1,is_l2,is_l3,is_l4,is_l5):\n",
    "    clr = ['b','orange','g','r','m']\n",
    "    id=0\n",
    "    is_layer = [is_l1,is_l2,is_l3,is_l4,is_l5]\n",
    "    df_all_grad = pd.DataFrame(columns = ['X','Y','Z','G_x', 'G_y', 'G_z','formation'])\n",
    "    # Set the coordinates from the numpy array\n",
    "    p.remove_legend()\n",
    "    p.clear()\n",
    "    for layer in layers:\n",
    "        if is_layer[layers.index(layer)] :\n",
    "            df_sort = sort_df(df,layer)\n",
    "\n",
    "            pts_x,pts_y,pts_z = [df_sort.X.to_numpy(),df_sort.Y.to_numpy(),df_sort.Z.to_numpy()]\n",
    "            points = np.c_[pts_x, pts_y, ve*pts_z]\n",
    "            print(np.shape(points))\n",
    "            cloud = pv.PolyData(points)\n",
    "            surf = cloud.delaunay_2d(tol=1e-5,progress_bar=True,offset=1e-5)\n",
    "            surf.compute_normals(cell_normals=False, point_normals=True,inplace=True)  # this activates the normals as well\n",
    "            normals = surf['Normals']\n",
    "            df_all_grad=df_all_grad.append(grad_df(df,normals,layer),ignore_index=True)\n",
    "            # plot \n",
    "            arrows = surf.glyph(scale=\"Normals\", orient=\"Normals\", tolerance=0.01,factor=fact_n)\n",
    "            mesh.points = points\n",
    "            glyph_act = p.add_mesh(arrows, color=\"c\",point_size=10)\n",
    "            surf_act = p.add_mesh(surf,color=clr[id],smooth_shading=True,label=layer,show_edges=True,opacity=1,lighting=True)\n",
    "            id +=1\n",
    "    p.show_grid()\n",
    "    p.add_axes()\n",
    "    p.add_legend()\n",
    "    p.show() \n",
    "\n",
    "    df_all = calculate_orientations(df_all_grad) # insert azimuth, dip, polarity from normals calculation\n",
    "\n",
    "    \n",
    "mesh = pv.UnstructuredGrid()\n",
    "p = pv.Plotter()\n",
    "\n",
    "widgets.interact(plot_layers_orientation,\n",
    "                 ve=widgets.IntSlider(description='Z vert. ex.',min=1,max=1000,step=10,value=200),\n",
    "                 fact_n=widgets.IntSlider(description='Glyph ex.',min=1,max=1000,step=10,value=500),\n",
    "                 is_l1=widgets.Checkbox(description='Layer 1',value=True),\n",
    "                 is_l2=widgets.Checkbox(description='Layer 2',value=False),\n",
    "                 is_l3=widgets.Checkbox(description='Layer 3',value=False),\n",
    "                 is_l4=widgets.Checkbox(description='Layer 4',value=False),\n",
    "                 is_l5=widgets.Checkbox(description='Layer 5',value=False)) "
   ]
  },
  {
   "cell_type": "code",
   "execution_count": 131,
   "metadata": {},
   "outputs": [
    {
     "data": {
      "text/html": [
       "<div>\n",
       "<style scoped>\n",
       "    .dataframe tbody tr th:only-of-type {\n",
       "        vertical-align: middle;\n",
       "    }\n",
       "\n",
       "    .dataframe tbody tr th {\n",
       "        vertical-align: top;\n",
       "    }\n",
       "\n",
       "    .dataframe thead th {\n",
       "        text-align: right;\n",
       "    }\n",
       "</style>\n",
       "<table border=\"1\" class=\"dataframe\">\n",
       "  <thead>\n",
       "    <tr style=\"text-align: right;\">\n",
       "      <th></th>\n",
       "      <th>X</th>\n",
       "      <th>Y</th>\n",
       "      <th>Z</th>\n",
       "      <th>G_x</th>\n",
       "      <th>G_y</th>\n",
       "      <th>G_z</th>\n",
       "      <th>azimuth</th>\n",
       "      <th>dip</th>\n",
       "      <th>polarity</th>\n",
       "      <th>formation</th>\n",
       "    </tr>\n",
       "  </thead>\n",
       "  <tbody>\n",
       "    <tr>\n",
       "      <th>0</th>\n",
       "      <td>500.0</td>\n",
       "      <td>500.0</td>\n",
       "      <td>18.5</td>\n",
       "      <td>0.099015</td>\n",
       "      <td>0.099015</td>\n",
       "      <td>-0.990148</td>\n",
       "      <td>45.000000</td>\n",
       "      <td>171.950516</td>\n",
       "      <td>1</td>\n",
       "      <td>Layer1</td>\n",
       "    </tr>\n",
       "    <tr>\n",
       "      <th>1</th>\n",
       "      <td>500.0</td>\n",
       "      <td>1000.0</td>\n",
       "      <td>18.5</td>\n",
       "      <td>0.131876</td>\n",
       "      <td>0.065938</td>\n",
       "      <td>-0.989071</td>\n",
       "      <td>63.434948</td>\n",
       "      <td>171.521286</td>\n",
       "      <td>1</td>\n",
       "      <td>Layer1</td>\n",
       "    </tr>\n",
       "    <tr>\n",
       "      <th>2</th>\n",
       "      <td>500.0</td>\n",
       "      <td>1500.0</td>\n",
       "      <td>19.5</td>\n",
       "      <td>0.000000</td>\n",
       "      <td>0.196116</td>\n",
       "      <td>-0.980581</td>\n",
       "      <td>0.000000</td>\n",
       "      <td>168.690048</td>\n",
       "      <td>1</td>\n",
       "      <td>Layer1</td>\n",
       "    </tr>\n",
       "    <tr>\n",
       "      <th>3</th>\n",
       "      <td>500.0</td>\n",
       "      <td>2000.0</td>\n",
       "      <td>20.5</td>\n",
       "      <td>0.000000</td>\n",
       "      <td>0.065656</td>\n",
       "      <td>-0.997842</td>\n",
       "      <td>0.000000</td>\n",
       "      <td>176.235519</td>\n",
       "      <td>1</td>\n",
       "      <td>Layer1</td>\n",
       "    </tr>\n",
       "    <tr>\n",
       "      <th>4</th>\n",
       "      <td>500.0</td>\n",
       "      <td>2500.0</td>\n",
       "      <td>20.5</td>\n",
       "      <td>0.000000</td>\n",
       "      <td>0.131312</td>\n",
       "      <td>-0.991341</td>\n",
       "      <td>0.000000</td>\n",
       "      <td>172.454590</td>\n",
       "      <td>1</td>\n",
       "      <td>Layer1</td>\n",
       "    </tr>\n",
       "  </tbody>\n",
       "</table>\n",
       "</div>"
      ],
      "text/plain": [
       "       X       Y     Z       G_x       G_y       G_z    azimuth         dip  \\\n",
       "0  500.0   500.0  18.5  0.099015  0.099015 -0.990148  45.000000  171.950516   \n",
       "1  500.0  1000.0  18.5  0.131876  0.065938 -0.989071  63.434948  171.521286   \n",
       "2  500.0  1500.0  19.5  0.000000  0.196116 -0.980581   0.000000  168.690048   \n",
       "3  500.0  2000.0  20.5  0.000000  0.065656 -0.997842   0.000000  176.235519   \n",
       "4  500.0  2500.0  20.5  0.000000  0.131312 -0.991341   0.000000  172.454590   \n",
       "\n",
       "   polarity formation  \n",
       "0         1    Layer1  \n",
       "1         1    Layer1  \n",
       "2         1    Layer1  \n",
       "3         1    Layer1  \n",
       "4         1    Layer1  "
      ]
     },
     "execution_count": 131,
     "metadata": {},
     "output_type": "execute_result"
    }
   ],
   "source": [
    "df_all_grad.head()"
   ]
  },
  {
   "cell_type": "code",
   "execution_count": 132,
   "metadata": {},
   "outputs": [
    {
     "data": {
      "text/plain": [
       "X           5457.300275\n",
       "Y           5178.719008\n",
       "Z             19.838154\n",
       "G_x           -0.081703\n",
       "G_y           -0.010463\n",
       "G_z           -0.673779\n",
       "azimuth      163.908615\n",
       "dip          143.227249\n",
       "polarity       1.000000\n",
       "dtype: float64"
      ]
     },
     "execution_count": 132,
     "metadata": {},
     "output_type": "execute_result"
    }
   ],
   "source": [
    "df_all.mean()"
   ]
  },
  {
   "cell_type": "markdown",
   "metadata": {},
   "source": [
    "### And the Vasarely's plot"
   ]
  },
  {
   "cell_type": "code",
   "execution_count": 143,
   "metadata": {},
   "outputs": [
    {
     "data": {
      "application/vnd.jupyter.widget-view+json": {
       "model_id": "fa374be8812e4672bb072a0098a5d9f6",
       "version_major": 2,
       "version_minor": 0
      },
      "text/plain": [
       "interactive(children=(Combobox(value='Layer1', description='Layer', options=('Layer1', 'Layer2', 'Layer3', 'La…"
      ]
     },
     "metadata": {},
     "output_type": "display_data"
    },
    {
     "data": {
      "text/plain": [
       "<function __main__.plot_elevation_map(layer)>"
      ]
     },
     "execution_count": 143,
     "metadata": {},
     "output_type": "execute_result"
    }
   ],
   "source": [
    "import matplotlib.pyplot as plt\n",
    "def plot_elevation_map(layer):\n",
    "    df_sort = sort_df(df,layer)\n",
    "    pts_x,pts_y,pts_z = [df_sort.X.to_numpy(),df_sort.Y.to_numpy(),df_sort.Z.to_numpy()]\n",
    "    points = np.c_[pts_x, pts_y, pts_z]\n",
    "\n",
    "    plt.figure(figsize=(5, 5))\n",
    "    plt.scatter(points[:, 0], points[:, 1], c=points[:, 2],s=100,marker=\"o\",cmap=\"viridis\")\n",
    "    plt.axis(\"image\")\n",
    "    plt.colorbar()\n",
    "    plt.xlabel(\"X Coordinate\")\n",
    "    plt.ylabel(\"Y Coordinate\")\n",
    "    plt.show()\n",
    "widgets.interact(plot_elevation_map,\n",
    "                layer=widgets.Combobox(description='Layer',options=[\"Layer1\", \"Layer2\", \"Layer3\", \"Layer4\", \"Layer5\"], value=\"Layer1\"))"
   ]
  },
  {
   "cell_type": "markdown",
   "metadata": {},
   "source": [
    "### Save surface dataFrame in ```csv``` format"
   ]
  },
  {
   "cell_type": "code",
   "execution_count": 144,
   "metadata": {},
   "outputs": [
    {
     "data": {
      "application/vnd.jupyter.widget-view+json": {
       "model_id": "907b85724cb4412abae95ca79e9ffc08",
       "version_major": 2,
       "version_minor": 0
      },
      "text/plain": [
       "interactive(children=(IntSlider(value=50, description='Number of bins', max=361, min=10, step=10), IntSlider(v…"
      ]
     },
     "metadata": {},
     "output_type": "display_data"
    },
    {
     "data": {
      "text/plain": [
       "<function __main__.save_surface_in_csv(nbin, rand, is_l1, is_l2, is_l3, is_l4, is_l5)>"
      ]
     },
     "execution_count": 144,
     "metadata": {},
     "output_type": "execute_result"
    }
   ],
   "source": [
    "def save_surface_in_csv(nbin,rand,is_l1,is_l2,is_l3,is_l4,is_l5):\n",
    "    df_surf_mask = pd.DataFrame(columns = ['X','Y','Z','formation'])\n",
    "    df_surf = df_all_surf.sample(n=nbin,random_state=rand) # bins\n",
    "    df_surf['Z']=df_surf['Z']*100 # vertical exageration\n",
    "    if is_l1:\n",
    "        df_surf_mask = df_surf_mask.append(df_surf[df_surf['formation']=='Layer1'])\n",
    "    if is_l2:\n",
    "        df_surf_mask = df_surf_mask.append(df_surf[df_surf['formation']=='Layer2'])\n",
    "    if is_l3:\n",
    "        df_surf_mask = df_surf_mask.append(df_surf[df_surf['formation']=='Layer3'])\n",
    "    if is_l4:\n",
    "        df_surf_mask = df_surf_mask.append(df_surf[df_surf['formation']=='Layer4'])\n",
    "    if is_l5:\n",
    "        df_surf_mask = df_surf_mask.append(df_surf[df_surf['formation']=='Layer5'])\n",
    "    df_surf_mask.to_csv(r'data/df_synth_surf.csv', sep=',', encoding='utf-8',index=False)\n",
    "    print(df_surf_mask.head())\n",
    "    print('... surface file saved')\n",
    "    \n",
    "widgets.interact(save_surface_in_csv,\n",
    "                 nbin=widgets.IntSlider(description='Number of bins',min=10,max=len(sort_df(df,\"Layer1\")),step=10,value=50),\n",
    "                 rand=widgets.IntSlider(description='random state number',min=1,max=10,step=1,value=2),\n",
    "                 is_l1=widgets.Checkbox(description='Layer 1',value=True),\n",
    "                 is_l2=widgets.Checkbox(description='Layer 2',value=True),\n",
    "                 is_l3=widgets.Checkbox(description='Layer 3',value=True),\n",
    "                 is_l4=widgets.Checkbox(description='Layer 4',value=True),\n",
    "                 is_l5=widgets.Checkbox(description='Layer 5',value=False))"
   ]
  },
  {
   "cell_type": "markdown",
   "metadata": {},
   "source": [
    "### Save orientation dataFrame in ```csv``` format"
   ]
  },
  {
   "cell_type": "code",
   "execution_count": 145,
   "metadata": {},
   "outputs": [
    {
     "data": {
      "application/vnd.jupyter.widget-view+json": {
       "model_id": "2bb167e3157a42eda902edfe58e4b56d",
       "version_major": 2,
       "version_minor": 0
      },
      "text/plain": [
       "interactive(children=(Checkbox(value=True, description='Gradient'), Checkbox(value=True, description='Azimuth'…"
      ]
     },
     "metadata": {},
     "output_type": "display_data"
    },
    {
     "data": {
      "text/plain": [
       "<function __main__.save_orientation_in_csv(pole_gradient, azimuth_angle, nbin, rand, is_l1, is_l2, is_l3, is_l4, is_l5)>"
      ]
     },
     "execution_count": 145,
     "metadata": {},
     "output_type": "execute_result"
    }
   ],
   "source": [
    "def save_orientation_in_csv(pole_gradient,azimuth_angle,nbin,rand,is_l1,is_l2,is_l3,is_l4,is_l5):\n",
    "    df_grad_mask = pd.DataFrame(columns = ['X','Y','Z','G_x', 'G_y', 'G_z','azimuth', 'dip', 'polarity','formation'])\n",
    "    df_grad = df_all_grad.sample(n=nbin,random_state=rand) # bins\n",
    "    if (not pole_gradient):\n",
    "        df_grad.drop(columns = ['G_x', 'G_y', 'G_z'],inplace = True)\n",
    "        df_grad_mask.drop(columns = ['G_x', 'G_y', 'G_z'],inplace = True)\n",
    "    if (not azimuth_angle):\n",
    "        df_grad.drop(columns = ['azimuth', 'dip','polarity'],inplace = True)\n",
    "        df_grad_mask.drop(columns = ['azimuth', 'dip','polarity'],inplace = True)\n",
    "    df_grad['Z']=df_grad['Z']*100 # vertical exageration\n",
    "    if is_l1:\n",
    "        df_grad_mask = df_grad_mask.append(df_grad[df_grad['formation']=='Layer1'])\n",
    "    if is_l2:\n",
    "        df_grad_mask = df_grad_mask.append(df_grad[df_grad['formation']=='Layer2'])\n",
    "    if is_l3:\n",
    "        df_grad_mask = df_grad_mask.append(df_grad[df_grad['formation']=='Layer3'])\n",
    "    if is_l4:\n",
    "        df_grad_mask = df_grad_mask.append(df_grad[df_grad['formation']=='Layer4'])\n",
    "    if is_l5:\n",
    "        df_grad_mask = df_grad_mask.append(df_grad[df_grad['formation']=='Layer5'])\n",
    "    df_grad_mask.to_csv(r'data/df_synth_orient.csv', sep=',', encoding='utf-8',index=False)\n",
    "    print(df_grad_mask.head())\n",
    "    print('... orientations file saved')\n",
    "    \n",
    "widgets.interact(save_orientation_in_csv,\n",
    "                 pole_gradient=widgets.Checkbox(description='Gradient',value=True),\n",
    "                 azimuth_angle=widgets.Checkbox(description='Azimuth',value=True),\n",
    "                 nbin=widgets.IntSlider(description='Number of bins',min=10,max=len(sort_df(df,\"Layer1\")),step=10,value=50),\n",
    "                 rand=widgets.IntSlider(description='random state number',min=1,max=10,step=1,value=2),\n",
    "                 is_l1=widgets.Checkbox(description='Layer 1',value=True),\n",
    "                 is_l2=widgets.Checkbox(description='Layer 2',value=True),\n",
    "                 is_l3=widgets.Checkbox(description='Layer 3',value=True),\n",
    "                 is_l4=widgets.Checkbox(description='Layer 4',value=True),\n",
    "                 is_l5=widgets.Checkbox(description='Layer 5',value=False))"
   ]
  },
  {
   "cell_type": "code",
   "execution_count": 146,
   "metadata": {},
   "outputs": [
    {
     "data": {
      "application/vnd.jupyter.widget-view+json": {
       "model_id": "da6693bcf31f40c0b65479ccc7109ea6",
       "version_major": 2,
       "version_minor": 0
      },
      "text/plain": [
       "Canvas(toolbar=Toolbar(toolitems=[('Home', 'Reset original view', 'home', 'home'), ('Back', 'Back to previous …"
      ]
     },
     "metadata": {},
     "output_type": "display_data"
    }
   ],
   "source": [
    "sns.set(style = \"darkgrid\")\n",
    "fig = plt.figure()\n",
    "ax = fig.add_subplot(111, projection = '3d')\n",
    "for layer in layers :\n",
    "    df_l = mask_df(df,layer)\n",
    "    x,y,z = [df_l['X'], df_l['Y'], df_l['Z']]\n",
    "    ax.scatter(x, y, z,s=30,depthshade=True)\n",
    "plt.grid(b=True,axis='both')\n",
    "plt.show(True)"
   ]
  },
  {
   "cell_type": "markdown",
   "metadata": {},
   "source": [
    "### Use GemPy and theano interpolation"
   ]
  },
  {
   "cell_type": "code",
   "execution_count": 149,
   "metadata": {},
   "outputs": [],
   "source": [
    "import gempy as gp\n",
    "import os\n",
    "os.environ[\"THEANO_FLAGS\"] = \"mode=FAST_RUN,device=cpu\""
   ]
  },
  {
   "cell_type": "code",
   "execution_count": 159,
   "metadata": {},
   "outputs": [
    {
     "name": "stdout",
     "output_type": "stream",
     "text": [
      "Active grids: ['regular']\n"
     ]
    },
    {
     "name": "stderr",
     "output_type": "stream",
     "text": [
      "If pole_vector and orientation are passed pole_vector is used/\n"
     ]
    },
    {
     "data": {
      "text/html": [
       "<div>\n",
       "<style scoped>\n",
       "    .dataframe tbody tr th:only-of-type {\n",
       "        vertical-align: middle;\n",
       "    }\n",
       "\n",
       "    .dataframe tbody tr th {\n",
       "        vertical-align: top;\n",
       "    }\n",
       "\n",
       "    .dataframe thead th {\n",
       "        text-align: right;\n",
       "    }\n",
       "</style>\n",
       "<table border=\"1\" class=\"dataframe\">\n",
       "  <thead>\n",
       "    <tr style=\"text-align: right;\">\n",
       "      <th></th>\n",
       "      <th>X</th>\n",
       "      <th>Y</th>\n",
       "      <th>Z</th>\n",
       "      <th>G_x</th>\n",
       "      <th>G_y</th>\n",
       "      <th>G_z</th>\n",
       "      <th>smooth</th>\n",
       "    </tr>\n",
       "  </thead>\n",
       "  <tbody>\n",
       "    <tr>\n",
       "      <th>count</th>\n",
       "      <td>46.000000</td>\n",
       "      <td>46.000000</td>\n",
       "      <td>46.000000</td>\n",
       "      <td>46.000000</td>\n",
       "      <td>46.000000</td>\n",
       "      <td>46.000000</td>\n",
       "      <td>4.600000e+01</td>\n",
       "    </tr>\n",
       "    <tr>\n",
       "      <th>mean</th>\n",
       "      <td>5076.086957</td>\n",
       "      <td>5945.652174</td>\n",
       "      <td>1923.913043</td>\n",
       "      <td>-0.072779</td>\n",
       "      <td>-0.056969</td>\n",
       "      <td>-0.977639</td>\n",
       "      <td>1.000000e-02</td>\n",
       "    </tr>\n",
       "    <tr>\n",
       "      <th>std</th>\n",
       "      <td>2579.766121</td>\n",
       "      <td>2461.319115</td>\n",
       "      <td>475.831335</td>\n",
       "      <td>0.124226</td>\n",
       "      <td>0.143189</td>\n",
       "      <td>0.023163</td>\n",
       "      <td>1.753892e-18</td>\n",
       "    </tr>\n",
       "    <tr>\n",
       "      <th>min</th>\n",
       "      <td>500.000000</td>\n",
       "      <td>500.000000</td>\n",
       "      <td>550.000000</td>\n",
       "      <td>-0.410415</td>\n",
       "      <td>-0.357199</td>\n",
       "      <td>-1.000000</td>\n",
       "      <td>1.000000e-02</td>\n",
       "    </tr>\n",
       "    <tr>\n",
       "      <th>25%</th>\n",
       "      <td>3000.000000</td>\n",
       "      <td>4250.000000</td>\n",
       "      <td>1575.000000</td>\n",
       "      <td>-0.151132</td>\n",
       "      <td>-0.146246</td>\n",
       "      <td>-0.994253</td>\n",
       "      <td>1.000000e-02</td>\n",
       "    </tr>\n",
       "    <tr>\n",
       "      <th>50%</th>\n",
       "      <td>4750.000000</td>\n",
       "      <td>6500.000000</td>\n",
       "      <td>2100.000000</td>\n",
       "      <td>-0.074291</td>\n",
       "      <td>-0.057895</td>\n",
       "      <td>-0.985307</td>\n",
       "      <td>1.000000e-02</td>\n",
       "    </tr>\n",
       "    <tr>\n",
       "      <th>75%</th>\n",
       "      <td>7375.000000</td>\n",
       "      <td>7500.000000</td>\n",
       "      <td>2250.000000</td>\n",
       "      <td>0.021163</td>\n",
       "      <td>0.044315</td>\n",
       "      <td>-0.964729</td>\n",
       "      <td>1.000000e-02</td>\n",
       "    </tr>\n",
       "    <tr>\n",
       "      <th>max</th>\n",
       "      <td>9000.000000</td>\n",
       "      <td>9500.000000</td>\n",
       "      <td>2450.000000</td>\n",
       "      <td>0.130628</td>\n",
       "      <td>0.212718</td>\n",
       "      <td>-0.907746</td>\n",
       "      <td>1.000000e-02</td>\n",
       "    </tr>\n",
       "  </tbody>\n",
       "</table>\n",
       "</div>"
      ],
      "text/plain": [
       "                 X            Y            Z        G_x        G_y        G_z  \\\n",
       "count    46.000000    46.000000    46.000000  46.000000  46.000000  46.000000   \n",
       "mean   5076.086957  5945.652174  1923.913043  -0.072779  -0.056969  -0.977639   \n",
       "std    2579.766121  2461.319115   475.831335   0.124226   0.143189   0.023163   \n",
       "min     500.000000   500.000000   550.000000  -0.410415  -0.357199  -1.000000   \n",
       "25%    3000.000000  4250.000000  1575.000000  -0.151132  -0.146246  -0.994253   \n",
       "50%    4750.000000  6500.000000  2100.000000  -0.074291  -0.057895  -0.985307   \n",
       "75%    7375.000000  7500.000000  2250.000000   0.021163   0.044315  -0.964729   \n",
       "max    9000.000000  9500.000000  2450.000000   0.130628   0.212718  -0.907746   \n",
       "\n",
       "             smooth  \n",
       "count  4.600000e+01  \n",
       "mean   1.000000e-02  \n",
       "std    1.753892e-18  \n",
       "min    1.000000e-02  \n",
       "25%    1.000000e-02  \n",
       "50%    1.000000e-02  \n",
       "75%    1.000000e-02  \n",
       "max    1.000000e-02  "
      ]
     },
     "execution_count": 159,
     "metadata": {},
     "output_type": "execute_result"
    }
   ],
   "source": [
    "res_x,res_y,res_z = [50,50,100]\n",
    "geo_data = gp.create_data('synth_model_dimitri',\n",
    "                           extent=[0, 10000, 0, 10000, 0, 2500],\n",
    "                           resolution=[res_x,res_y,res_z],\n",
    "                           path_i =\"data/df_synth_surf.csv\",\n",
    "                           path_o =\"data/df_synth_orient.csv\",default_value=True)\n",
    "#gp.set_orientation_from_surface_points(geo_data,[0,1,2])\n",
    "gp.get_data(geo_data,'orientations').describe()"
   ]
  },
  {
   "cell_type": "code",
   "execution_count": null,
   "metadata": {},
   "outputs": [],
   "source": [
    "#layer_names = ['Layer1']\n",
    "#for lay in layer_names:\n",
    "#    lay_idx = geo_data.surface_points.df.index[geo_data.surface_points.df['surface'] == lay]\n",
    "#    gp.set_orientation_from_surface_points(geo_data, lay_idx)\n",
    "#    print(len(lay_idx))"
   ]
  },
  {
   "cell_type": "markdown",
   "metadata": {},
   "source": [
    "### Load a random topography"
   ]
  },
  {
   "cell_type": "code",
   "execution_count": 160,
   "metadata": {},
   "outputs": [
    {
     "name": "stdout",
     "output_type": "stream",
     "text": [
      "[2000. 2500.]\n",
      "Active grids: ['regular' 'topography']\n"
     ]
    },
    {
     "data": {
      "text/plain": [
       "Grid Object. Values: \n",
       "array([[  100.        ,   100.        ,    12.5       ],\n",
       "       [  100.        ,   100.        ,    37.5       ],\n",
       "       [  100.        ,   100.        ,    62.5       ],\n",
       "       ...,\n",
       "       [10000.        ,  9591.83673469,  2329.85357324],\n",
       "       [10000.        ,  9795.91836735,  2325.39877744],\n",
       "       [10000.        , 10000.        ,  2313.27573895]])"
      ]
     },
     "execution_count": 160,
     "metadata": {},
     "output_type": "execute_result"
    }
   ],
   "source": [
    "geo_data.surfaces\n",
    "geo_data.set_topography(source='random')"
   ]
  },
  {
   "cell_type": "markdown",
   "metadata": {},
   "source": [
    "### Declare series and surface order"
   ]
  },
  {
   "cell_type": "code",
   "execution_count": 161,
   "metadata": {},
   "outputs": [
    {
     "data": {
      "text/html": [
       "<style  type=\"text/css\" >\n",
       "#T_390e9d98_a82e_11eb_a021_eda16dffba50row0_col3{\n",
       "            background-color:  #015482;\n",
       "        }#T_390e9d98_a82e_11eb_a021_eda16dffba50row1_col3{\n",
       "            background-color:  #e5350f;\n",
       "        }#T_390e9d98_a82e_11eb_a021_eda16dffba50row2_col3{\n",
       "            background-color:  #728f02;\n",
       "        }#T_390e9d98_a82e_11eb_a021_eda16dffba50row3_col3{\n",
       "            background-color:  #9f0052;\n",
       "        }#T_390e9d98_a82e_11eb_a021_eda16dffba50row4_col3{\n",
       "            background-color:  #443988;\n",
       "        }</style><table id=\"T_390e9d98_a82e_11eb_a021_eda16dffba50\" ><thead>    <tr>        <th class=\"blank level0\" ></th>        <th class=\"col_heading level0 col0\" >surface</th>        <th class=\"col_heading level0 col1\" >series</th>        <th class=\"col_heading level0 col2\" >order_surfaces</th>        <th class=\"col_heading level0 col3\" >color</th>        <th class=\"col_heading level0 col4\" >id</th>    </tr></thead><tbody>\n",
       "                <tr>\n",
       "                        <th id=\"T_390e9d98_a82e_11eb_a021_eda16dffba50level0_row0\" class=\"row_heading level0 row0\" >0</th>\n",
       "                        <td id=\"T_390e9d98_a82e_11eb_a021_eda16dffba50row0_col0\" class=\"data row0 col0\" >Layer1</td>\n",
       "                        <td id=\"T_390e9d98_a82e_11eb_a021_eda16dffba50row0_col1\" class=\"data row0 col1\" >Strat_series</td>\n",
       "                        <td id=\"T_390e9d98_a82e_11eb_a021_eda16dffba50row0_col2\" class=\"data row0 col2\" >1</td>\n",
       "                        <td id=\"T_390e9d98_a82e_11eb_a021_eda16dffba50row0_col3\" class=\"data row0 col3\" >#015482</td>\n",
       "                        <td id=\"T_390e9d98_a82e_11eb_a021_eda16dffba50row0_col4\" class=\"data row0 col4\" >1</td>\n",
       "            </tr>\n",
       "            <tr>\n",
       "                        <th id=\"T_390e9d98_a82e_11eb_a021_eda16dffba50level0_row1\" class=\"row_heading level0 row1\" >1</th>\n",
       "                        <td id=\"T_390e9d98_a82e_11eb_a021_eda16dffba50row1_col0\" class=\"data row1 col0\" >Layer2</td>\n",
       "                        <td id=\"T_390e9d98_a82e_11eb_a021_eda16dffba50row1_col1\" class=\"data row1 col1\" >Strat_series</td>\n",
       "                        <td id=\"T_390e9d98_a82e_11eb_a021_eda16dffba50row1_col2\" class=\"data row1 col2\" >2</td>\n",
       "                        <td id=\"T_390e9d98_a82e_11eb_a021_eda16dffba50row1_col3\" class=\"data row1 col3\" >#e5350f</td>\n",
       "                        <td id=\"T_390e9d98_a82e_11eb_a021_eda16dffba50row1_col4\" class=\"data row1 col4\" >2</td>\n",
       "            </tr>\n",
       "            <tr>\n",
       "                        <th id=\"T_390e9d98_a82e_11eb_a021_eda16dffba50level0_row2\" class=\"row_heading level0 row2\" >2</th>\n",
       "                        <td id=\"T_390e9d98_a82e_11eb_a021_eda16dffba50row2_col0\" class=\"data row2 col0\" >Layer3</td>\n",
       "                        <td id=\"T_390e9d98_a82e_11eb_a021_eda16dffba50row2_col1\" class=\"data row2 col1\" >Strat_series</td>\n",
       "                        <td id=\"T_390e9d98_a82e_11eb_a021_eda16dffba50row2_col2\" class=\"data row2 col2\" >3</td>\n",
       "                        <td id=\"T_390e9d98_a82e_11eb_a021_eda16dffba50row2_col3\" class=\"data row2 col3\" >#728f02</td>\n",
       "                        <td id=\"T_390e9d98_a82e_11eb_a021_eda16dffba50row2_col4\" class=\"data row2 col4\" >3</td>\n",
       "            </tr>\n",
       "            <tr>\n",
       "                        <th id=\"T_390e9d98_a82e_11eb_a021_eda16dffba50level0_row3\" class=\"row_heading level0 row3\" >3</th>\n",
       "                        <td id=\"T_390e9d98_a82e_11eb_a021_eda16dffba50row3_col0\" class=\"data row3 col0\" >Layer4</td>\n",
       "                        <td id=\"T_390e9d98_a82e_11eb_a021_eda16dffba50row3_col1\" class=\"data row3 col1\" >Strat_series</td>\n",
       "                        <td id=\"T_390e9d98_a82e_11eb_a021_eda16dffba50row3_col2\" class=\"data row3 col2\" >4</td>\n",
       "                        <td id=\"T_390e9d98_a82e_11eb_a021_eda16dffba50row3_col3\" class=\"data row3 col3\" >#9f0052</td>\n",
       "                        <td id=\"T_390e9d98_a82e_11eb_a021_eda16dffba50row3_col4\" class=\"data row3 col4\" >4</td>\n",
       "            </tr>\n",
       "            <tr>\n",
       "                        <th id=\"T_390e9d98_a82e_11eb_a021_eda16dffba50level0_row4\" class=\"row_heading level0 row4\" >4</th>\n",
       "                        <td id=\"T_390e9d98_a82e_11eb_a021_eda16dffba50row4_col0\" class=\"data row4 col0\" >basement</td>\n",
       "                        <td id=\"T_390e9d98_a82e_11eb_a021_eda16dffba50row4_col1\" class=\"data row4 col1\" >Strat_series</td>\n",
       "                        <td id=\"T_390e9d98_a82e_11eb_a021_eda16dffba50row4_col2\" class=\"data row4 col2\" >5</td>\n",
       "                        <td id=\"T_390e9d98_a82e_11eb_a021_eda16dffba50row4_col3\" class=\"data row4 col3\" >#443988</td>\n",
       "                        <td id=\"T_390e9d98_a82e_11eb_a021_eda16dffba50row4_col4\" class=\"data row4 col4\" >5</td>\n",
       "            </tr>\n",
       "    </tbody></table>"
      ],
      "text/plain": [
       "    surface        series  order_surfaces    color  id\n",
       "0    Layer1  Strat_series               1  #015482   1\n",
       "1    Layer2  Strat_series               2  #e5350f   2\n",
       "2    Layer3  Strat_series               3  #728f02   3\n",
       "3    Layer4  Strat_series               4  #9f0052   4\n",
       "4  basement  Strat_series               5  #443988   5"
      ]
     },
     "execution_count": 161,
     "metadata": {},
     "output_type": "execute_result"
    }
   ],
   "source": [
    "gp.map_stack_to_surfaces(geo_data, {\"Strat_Series\": (\"Layer4\",\"Layer3\",\"Layer2\",\"Layer1\"),\n",
    "                                    \"Basement Series\":\"basement\"},\n",
    "                                   remove_unused_series=False)\n",
    "gp.map_series_to_surfaces(geo_data, {\"Strat_series\":('basement','Layer4','Layer3','Layer2','Layer1')},remove_unused_series=False)\n",
    "geo_data.surfaces.colors.change_colors({'Layer1': '#015482', 'Layer2': '#e5350f', 'Layer3': '#728f02','Layer4': '#9f0052',\n",
    "                                        'basement': '#443988'})\n",
    "geo_data.surfaces"
   ]
  },
  {
   "cell_type": "code",
   "execution_count": 257,
   "metadata": {},
   "outputs": [],
   "source": [
    "#order_series = [\"Strat_Series_3\",\"Strat_Series_2\",\"Strat_Series_1\",\"Basement_Series\"]\n",
    "#geo_data.reorder_series(order_series)"
   ]
  },
  {
   "cell_type": "code",
   "execution_count": 162,
   "metadata": {},
   "outputs": [
    {
     "name": "stdout",
     "output_type": "stream",
     "text": [
      "Setting kriging parameters to their default values.\n",
      "Compiling theano function...\n",
      "Level of Optimization:  fast_compile\n",
      "Device:  cpu\n",
      "Precision:  float64\n",
      "Number of faults:  0\n",
      "Compilation Done!\n",
      "Kriging values: \n",
      "                           values\n",
      "range                    14361.4\n",
      "$C_o$                4.91071e+06\n",
      "drift equations  [3, 3, 3, 3, 3]\n"
     ]
    }
   ],
   "source": [
    "interp_data = gp.set_interpolator(geo_data, compile_theano=True,theano_optimizer='fast_compile')"
   ]
  },
  {
   "cell_type": "code",
   "execution_count": null,
   "metadata": {},
   "outputs": [],
   "source": [
    "#new_range = geo_data.get_additional_data().loc[('Kriging', 'range'), 'values'] * 0.2\n",
    "#geo_data.modify_kriging_parameters('range', new_range)"
   ]
  },
  {
   "cell_type": "code",
   "execution_count": null,
   "metadata": {},
   "outputs": [],
   "source": [
    "#geo_data.orientation\n",
    "#geo_data.grid\n",
    "#gp.get_additional_data(geo_data)"
   ]
  },
  {
   "cell_type": "code",
   "execution_count": 163,
   "metadata": {},
   "outputs": [],
   "source": [
    "sol = gp.compute_model(geo_data,set_solutions=True, compute_mesh=True)"
   ]
  },
  {
   "cell_type": "code",
   "execution_count": 164,
   "metadata": {},
   "outputs": [
    {
     "data": {
      "text/plain": [
       "array([1., 1., 1., ..., 5., 5., 5.])"
      ]
     },
     "execution_count": 164,
     "metadata": {},
     "output_type": "execute_result"
    }
   ],
   "source": [
    "sol.lith_block"
   ]
  },
  {
   "cell_type": "code",
   "execution_count": 165,
   "metadata": {},
   "outputs": [
    {
     "data": {
      "text/plain": [
       "Grid Object. Values: \n",
       "array([[  100.        ,   100.        ,    12.5       ],\n",
       "       [  100.        ,   100.        ,    37.5       ],\n",
       "       [  100.        ,   100.        ,    62.5       ],\n",
       "       ...,\n",
       "       [10000.        ,  9591.83673469,  2329.85357324],\n",
       "       [10000.        ,  9795.91836735,  2325.39877744],\n",
       "       [10000.        , 10000.        ,  2313.27573895]])"
      ]
     },
     "execution_count": 165,
     "metadata": {},
     "output_type": "execute_result"
    }
   ],
   "source": [
    "sol.grid"
   ]
  },
  {
   "cell_type": "code",
   "execution_count": 166,
   "metadata": {},
   "outputs": [
    {
     "data": {
      "application/vnd.jupyter.widget-view+json": {
       "model_id": "e272b0f724b14a6dab9a669e9c58f6d6",
       "version_major": 2,
       "version_minor": 0
      },
      "text/plain": [
       "interactive(children=(IntSlider(value=10, description='slice on x/y :', max=49), Dropdown(description='layer',…"
      ]
     },
     "metadata": {},
     "output_type": "display_data"
    },
    {
     "data": {
      "text/plain": [
       "<function __main__.plot_cross_section(cell, layer, dir)>"
      ]
     },
     "execution_count": 166,
     "metadata": {},
     "output_type": "execute_result"
    }
   ],
   "source": [
    "def plot_cross_section(cell,layer,dir):\n",
    "    gp.plot_2d(geo_data, cell_number=cell, series_n=layer,direction=dir,ve=2,\n",
    "               show_data=True,\n",
    "               show_boundaries=True,\n",
    "               show_results=True,\n",
    "               show_topography=True,kwargs_regular_grid={'cmap': 'viridis', 'norm':None})\n",
    "    #plt.show()\n",
    "widgets.interact(plot_cross_section,\n",
    "                 cell=widgets.IntSlider(description='slice on x/y :',min=0,max=res_x-1,step=1,value=10),\n",
    "                 layer=[('Layer1', 0), ('Layer2', 1), ('Layer3', 2), ('Layer4', 3), ('Layer5', 4)],\n",
    "                 dir=['x','y'])"
   ]
  },
  {
   "cell_type": "code",
   "execution_count": 183,
   "metadata": {},
   "outputs": [
    {
     "data": {
      "text/plain": [
       "<gempy.plot.vista.GemPyToVista at 0x7f40269f2250>"
      ]
     },
     "execution_count": 183,
     "metadata": {},
     "output_type": "execute_result"
    }
   ],
   "source": [
    "gp.plot_3d(geo_data, plotter_type='background',ve=1,show_topography=True,show_data=True,show_surfaces=True,show_results=True,show_lith=True)"
   ]
  },
  {
   "cell_type": "code",
   "execution_count": 168,
   "metadata": {},
   "outputs": [
    {
     "data": {
      "text/plain": [
       "<gempy.plot.vista.GemPyToVista at 0x7f40212f4a30>"
      ]
     },
     "execution_count": 168,
     "metadata": {},
     "output_type": "execute_result"
    }
   ],
   "source": [
    "#gp.plot.plot_interactive_3d(geo_data)"
   ]
  },
  {
   "cell_type": "markdown",
   "metadata": {},
   "source": [
    "### Save model"
   ]
  },
  {
   "cell_type": "code",
   "execution_count": 178,
   "metadata": {},
   "outputs": [],
   "source": [
    "# Simple export to VTK:\n",
    "def export_to_vtk(sol,filename):\n",
    "    import pyevtk\n",
    "    print('regular grid:\\t', sol.grid.regular_grid.resolution, '\\t', sol.grid.regular_grid.extent.astype(int))\n",
    "\n",
    "    #Export whole, uncropped lith_block\n",
    "    #Get coordinate info from grid & create VTK cells info:\n",
    "    xmin = sol.grid.regular_grid.extent[0]\n",
    "    xmax = sol.grid.regular_grid.extent[1]\n",
    "    xres = sol.grid.regular_grid.resolution[0]\n",
    "    dx   = (xmax-xmin)/xres                       #pixel width\n",
    "    xvals = np.arange(xmin,xmax+dx,dx)\n",
    "\n",
    "    ymin = sol.grid.regular_grid.extent[2]\n",
    "    ymax = sol.grid.regular_grid.extent[3]\n",
    "    yres = sol.grid.regular_grid.resolution[1]\n",
    "    dy   = (ymax-ymin)/yres\n",
    "    yvals = np.arange(ymin,ymax+dy,dy)\n",
    "\n",
    "    zmin = sol.grid.regular_grid.extent[4]\n",
    "    zmax = sol.grid.regular_grid.extent[5]\n",
    "    zres = sol.grid.regular_grid.resolution[2]\n",
    "    dz   = (zmax-zmin)/zres\n",
    "    zvals = np.arange(zmin,zmax+dz,dz)\n",
    "\n",
    "    print('x:', xmin,xmax,xres,dx)\n",
    "    print('y:', ymin,ymax,yres,dy)\n",
    "    print('z:', zmin,zmax,zres,dz)\n",
    "\n",
    "    g = sol.lith_block.copy()            #make a copy to avoid messing up original\n",
    "    g = np.reshape(g, (xres,yres,zres))  #reshape lith block to 3D\n",
    "    print('shape of array to export:', g.shape)\n",
    "    plt.imshow(g[:,:,zres-1])\n",
    "    path = r'data/'+str(filename)  #set file path to save to (should have no extension)\n",
    "    pyevtk.hl.gridToVTK(path, xvals, yvals, zvals, cellData={'data': g}) #export to VTK"
   ]
  },
  {
   "cell_type": "code",
   "execution_count": 179,
   "metadata": {},
   "outputs": [
    {
     "name": "stdout",
     "output_type": "stream",
     "text": [
      "regular grid:\t [ 50  50 100] \t [    0 10000     0 10000     0  2500]\n",
      "x: 0.0 10000.0 50 200.0\n",
      "y: 0.0 10000.0 50 200.0\n",
      "z: 0.0 2500.0 100 25.0\n",
      "shape of array to export: (50, 50, 100)\n"
     ]
    }
   ],
   "source": [
    "export_to_vtk(sol,'test')"
   ]
  },
  {
   "cell_type": "code",
   "execution_count": 170,
   "metadata": {},
   "outputs": [],
   "source": [
    "gp.save_model(geo_data)\n",
    "#np.save('Layer1_ver', geo_data.solutions.vertices) # numpy binary export .npy\n",
    "#np.save('Layer1_edges', geo_data.solutions.edges)"
   ]
  }
 ],
 "metadata": {
  "kernelspec": {
   "display_name": "Python 3",
   "language": "python",
   "name": "python3"
  },
  "language_info": {
   "codemirror_mode": {
    "name": "ipython",
    "version": 3
   },
   "file_extension": ".py",
   "mimetype": "text/x-python",
   "name": "python",
   "nbconvert_exporter": "python",
   "pygments_lexer": "ipython3",
   "version": "3.8.6"
  },
  "toc-showcode": true,
  "widgets": {
   "application/vnd.jupyter.widget-state+json": {
    "state": {},
    "version_major": 2,
    "version_minor": 0
   }
  }
 },
 "nbformat": 4,
 "nbformat_minor": 4
}
